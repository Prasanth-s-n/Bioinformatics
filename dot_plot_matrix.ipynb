{
 "cells": [
  {
   "cell_type": "code",
   "execution_count": 1,
   "metadata": {},
   "outputs": [],
   "source": [
    "import numpy as np\n",
    "import matplotlib.pyplot as plt"
   ]
  },
  {
   "cell_type": "code",
   "execution_count": 2,
   "metadata": {},
   "outputs": [],
   "source": [
    "def dot_plot_matrix(S1,S2,plotdpm=False):\n",
    "    dpm = np.zeros((len(S2),len(S1)))\n",
    "    for i in range(len(S2)):\n",
    "        for j in range(len(S1)):\n",
    "            if S2[i] == S1[j]:\n",
    "                dpm[i][j]=1\n",
    "    if plotdpm:\n",
    "        plt.spy(dpm,markersize=3)\n",
    "        plt.xticks(range(len(S1)))\n",
    "        plt.xlabel(\"Sequence1\")\n",
    "        plt.yticks(range(len(S2)))\n",
    "        plt.ylabel(\"Sequence2\")\n",
    "        plt.show()\n",
    "    return dpm"
   ]
  },
  {
   "cell_type": "code",
   "execution_count": 3,
   "metadata": {},
   "outputs": [],
   "source": [
    "def subarr(arr):\n",
    "    retarr=[]\n",
    "    S=[]\n",
    "    s=0\n",
    "    for i in range(len(arr)-1):\n",
    "        if arr[i]==arr[i+1]-1:\n",
    "            s+=1\n",
    "        else:\n",
    "            retarr.append(arr[i-s:i+1])\n",
    "            s=0    \n",
    "        if i==len(arr)-2:\n",
    "            if arr[len(arr)-1] == arr[len(arr)-2]+1:\n",
    "                retarr.append(arr[i-s+1:i+2])\n",
    "            else:\n",
    "                retarr.append(arr[i-s:i+1])\n",
    "    S = [i for i in retarr if len(i)!=1]\n",
    "    return S"
   ]
  },
  {
   "cell_type": "code",
   "execution_count": 4,
   "metadata": {},
   "outputs": [],
   "source": [
    "def original_index(Matrix,index_of_diagonal):\n",
    "    if index_of_diagonal<0:\n",
    "        tiR=abs(index_of_diagonal)\n",
    "        tiC = 0\n",
    "        \n",
    "    else:\n",
    "        tiR = 0\n",
    "        tiC = index_of_diagonal\n",
    "    A=[]\n",
    "    Done=True\n",
    "    while Done:\n",
    "        if tiR<len(Matrix) and tiC<len(Matrix[0]):\n",
    "            temp = [tiR,tiC]\n",
    "            A.append(temp)\n",
    "            tiR+=1\n",
    "            tiC+=1\n",
    "        else:\n",
    "            Done=False    \n",
    "    return A"
   ]
  },
  {
   "cell_type": "code",
   "execution_count": 5,
   "metadata": {},
   "outputs": [],
   "source": [
    "def subseq(dpm,seq1,seq2):\n",
    "    cdpm=np.copy(dpm)\n",
    "    retS=[]\n",
    "    t=[]\n",
    "    for i in range(-len(dpm)+1,len(dpm[0])):\n",
    "        curr_dia = dpm.diagonal(i)\n",
    "        sa = subarr(np.where(np.array(curr_dia)==1)[0])\n",
    "        for j in sa:\n",
    "            diag_original_index = original_index(dpm,i)\n",
    "            seqRet=\"\"\n",
    "            for k in j:\n",
    "                seqRet+=str(seq2[diag_original_index[k][0]])\n",
    "            retS.append(seqRet)\n",
    "                \n",
    "    return retS                "
   ]
  },
  {
   "cell_type": "code",
   "execution_count": 6,
   "metadata": {},
   "outputs": [],
   "source": [
    "def printSeq(seqs):\n",
    "    curr_max=max(seqs,key=len)\n",
    "    while True:\n",
    "        if len(seqs)!=1:\n",
    "            print(curr_max)\n",
    "            seqs.remove(curr_max)\n",
    "            curr_max = max(seqs,key=len)\n",
    "        elif len(seqs)==1:\n",
    "            print(curr_max)\n",
    "            break"
   ]
  },
  {
   "cell_type": "code",
   "execution_count": 7,
   "metadata": {},
   "outputs": [],
   "source": [
    "def removeHypen(seq):\n",
    "    rseq=''\n",
    "    for i in seq:\n",
    "        if i!='-':\n",
    "            rseq+=i\n",
    "    return rseq"
   ]
  },
  {
   "cell_type": "code",
   "execution_count": 8,
   "metadata": {},
   "outputs": [
    {
     "data": {
      "image/png": "[encoded data removed]",
      "text/plain": [
       "<Figure size 432x288 with 1 Axes>"
      ]
     },
     "metadata": {
      "needs_background": "light"
     },
     "output_type": "display_data"
    },
    {
     "name": "stdout",
     "output_type": "stream",
     "text": [
      "\n",
      "Diagonal:\n",
      "ACCTGAGCTCACCTGAGTTA\n",
      "ACCTGAG\n",
      "ACCTGAG\n",
      "CT\n",
      "CT\n",
      "CT\n",
      "CT\n",
      "\n",
      "Reverse Diagonal:\n",
      "TGAGT\n",
      "TGAG\n",
      "GAGT\n",
      "CAC\n",
      "CTC\n",
      "GAG\n",
      "TT\n",
      "CC\n",
      "TC\n",
      "CT\n",
      "CC\n",
      "CC\n",
      "CT\n",
      "TC\n",
      "AC\n",
      "CA\n",
      "CC\n"
     ]
    }
   ],
   "source": [
    "S1 = \"ACCTGAGCTCACCTGAGTTA\"\n",
    "S2 = \"ACCTGAGCTCACCTGAGTTA\"\n",
    "S1 = removeHypen(S1)\n",
    "S2 = removeHypen(S2)\n",
    "dpm=dot_plot_matrix(S1,S2,True)\n",
    "sequences1=[]\n",
    "sequences1.append(subseq(dpm,S1,S2))#First array consists of sequence created using diagonal and sub diagonal\n",
    "\n",
    "rev_dpm = dot_plot_matrix(S1[::-1],S2)\n",
    "sequences1.append(subseq(rev_dpm,S1[::-1],S2))\n",
    "#Second array consists of sequence created using reverse diagonal but not complimented\n",
    "\n",
    "print(\"\\nDiagonal:\")\n",
    "printSeq(sequences1[0])\n",
    "print(\"\\nReverse Diagonal:\")\n",
    "printSeq(sequences1[1])"
   ]
  },
  {
   "cell_type": "code",
   "execution_count": 9,
   "metadata": {},
   "outputs": [
    {
     "data": {
      "image/png": "[encoded data removed]",
      "text/plain": [
       "<Figure size 432x288 with 1 Axes>"
      ]
     },
     "metadata": {
      "needs_background": "light"
     },
     "output_type": "display_data"
    },
    {
     "name": "stdout",
     "output_type": "stream",
     "text": [
      "\n",
      "Diagonal:\n",
      "HG\n",
      "HG\n",
      "\n",
      "Reverse Diagonal:\n",
      "HG\n",
      "AS\n"
     ]
    }
   ],
   "source": [
    "S1 = \"HGSAQVKGHG\"\n",
    "S2 = \"KTEAEMKASEDLKKHGT\"\n",
    "dpm2=dot_plot_matrix(S1,S2,True)\n",
    "sequences2=[]\n",
    "sequences2.append(subseq(dpm2,S1,S2))#First array consists of sequence created using diagonal and sub diagonal\n",
    "\n",
    "rev_dpm2 = dot_plot_matrix(S1[::-1],S2)\n",
    "sequences2.append(subseq(rev_dpm2,S1[::-1],S2))\n",
    "#Second array consists of sequence created using reverse diagonal but not complimented\n",
    "print(\"\\nDiagonal:\")\n",
    "printSeq(sequences2[0])\n",
    "print(\"\\nReverse Diagonal:\")\n",
    "printSeq(sequences2[1])"
   ]
  },
  {
   "cell_type": "code",
   "execution_count": 10,
   "metadata": {},
   "outputs": [
    {
     "data": {
      "image/png": "[encoded data removed]",
      "text/plain": [
       "<Figure size 432x288 with 1 Axes>"
      ]
     },
     "metadata": {
      "needs_background": "light"
     },
     "output_type": "display_data"
    },
    {
     "name": "stdout",
     "output_type": "stream",
     "text": [
      "\n",
      "Diagonal:\n",
      "CGATGCTAGCGT\n",
      "ATCGTA\n",
      "CGTATC\n",
      "ATCGTA\n",
      "TCGTA\n",
      "TCGTA\n",
      "CGTA\n",
      "TATC\n",
      "CGT\n",
      "TAG\n",
      "CTA\n",
      "CGT\n",
      "CG\n",
      "AT\n",
      "TA\n",
      "AT\n",
      "CG\n",
      "TA\n",
      "CG\n",
      "GT\n",
      "GC\n",
      "TA\n",
      "TC\n",
      "TC\n",
      "GT\n",
      "GC\n",
      "TA\n",
      "TC\n",
      "GT\n",
      "CG\n",
      "AT\n",
      "CG\n",
      "AT\n",
      "TA\n",
      "CG\n",
      "AC\n",
      "\n",
      "Reverse Diagonal:\n",
      "GATGCTA\n",
      "ATGCTA\n",
      "ATCGTA\n",
      "TCGTA\n",
      "TATC\n",
      "ATGC\n",
      "CGAT\n",
      "TAGC\n",
      "CAT\n",
      "ATC\n",
      "TAT\n",
      "ATC\n",
      "GCG\n",
      "CGT\n",
      "TA\n",
      "AT\n",
      "AT\n",
      "TA\n",
      "TC\n",
      "AT\n",
      "GC\n",
      "AT\n",
      "CG\n",
      "CT\n",
      "AT\n",
      "GC\n",
      "CG\n",
      "TG\n",
      "CG\n",
      "GC\n"
     ]
    }
   ],
   "source": [
    "S1 = \"CGATGCTAGCGTATCGTAGTCTATCGTAC\"\n",
    "S2 = \"ACGATGCTAGCGTTTCGTA-TC-ATCGTA\"\n",
    "S1 = removeHypen(S1)\n",
    "S2 = removeHypen(S2)    \n",
    "dpm3=dot_plot_matrix(S1,S2,True)\n",
    "sequences3=[]\n",
    "sequences3.append(subseq(dpm3,S1,S2))#First array consists of sequence created using diagonal and sub diagonal\n",
    "\n",
    "rev_dpm3 = dot_plot_matrix(S1[::-1],S2)\n",
    "sequences3.append(subseq(rev_dpm3,S1[::-1],S2))\n",
    "#Second array consists of sequence created using reverse diagonal but not complimented\n",
    "print(\"\\nDiagonal:\")\n",
    "printSeq(sequences3[0])\n",
    "print(\"\\nReverse Diagonal:\")\n",
    "printSeq(sequences3[1])"
   ]
  }
 ],
 "metadata": {
  "kernelspec": {
   "display_name": "Python 3",
   "language": "python",
   "name": "python3"
  },
  "language_info": {
   "codemirror_mode": {
    "name": "ipython",
    "version": 3
   },
   "file_extension": ".py",
   "mimetype": "text/x-python",
   "name": "python",
   "nbconvert_exporter": "python",
   "pygments_lexer": "ipython3",
   "version": "3.8.3"
  }
 },
 "nbformat": 4,
 "nbformat_minor": 4
}
